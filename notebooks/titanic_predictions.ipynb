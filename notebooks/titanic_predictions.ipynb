{
 "cells": [
  {
   "cell_type": "markdown",
   "source": [
    "# Titanic predictions\n",
    "This notebook gives an example application of the decision tree classifier. The titanic dataset documents a number of attributes related to passengers of the famous Titanic voyage. We will try to use these attributes to predict whether a passenger died or survived from the titanic dataset.\n",
    "\n",
    "Dataset can be donwloaded from [here](https://www.kaggle.com/c/titanic/data).\n",
    "\n",
    "We will also compare the performance of our implementation of a decision tree classifier to an open-source implementation from sci-kit learn."
   ],
   "metadata": {}
  },
  {
   "cell_type": "code",
   "execution_count": 1,
   "source": [
    "import pandas as pd"
   ],
   "outputs": [],
   "metadata": {}
  },
  {
   "cell_type": "markdown",
   "source": [
    "## Calling C++ directly from Python\n",
    "Compiled C and C++ libraries can be directly interfaced and called from Python. The cell below interfaces our C++ decision tree classifier into Python so we can call it directly from this notebook."
   ],
   "metadata": {}
  },
  {
   "cell_type": "code",
   "execution_count": 2,
   "source": [
    "# create wrapper to call C++ library directly from Python\n",
    "import ctypes\n",
    "import pathlib\n",
    "\n",
    "def cpp_decision_tree(trainPath, testPath):\n",
    "    # Load the shared library into ctypes\n",
    "    libname = pathlib.Path().absolute() / \"../build/libDecisionTree.dylib\"\n",
    "\n",
    "    c_lib = ctypes.CDLL(libname)\n",
    "    decisionTree = c_lib.decisionTree\n",
    "\n",
    "    # response type is a integer pointer\n",
    "    decisionTree.restype = ctypes.POINTER(ctypes.c_int)\n",
    "\n",
    "    # argument types are pointers to characters\n",
    "    decisionTree.argtypes = [ctypes.c_char_p, ctypes.c_char_p]\n",
    "\n",
    "\n",
    "    with open(testPath) as f:\n",
    "        first_line = f.readline()\n",
    "    number_predictions = first_line.count(',') + 1\n",
    "    \n",
    "    decisionTreeP = decisionTree(trainPath.encode('utf-8'), testPath.encode('utf-8'))\n",
    "\n",
    "    # parsing predictions into a list for Python\n",
    "    predictions = [decisionTreeP[i] for i in range(number_predictions)]\n",
    "    \n",
    "    return predictions"
   ],
   "outputs": [],
   "metadata": {}
  },
  {
   "cell_type": "markdown",
   "source": [
    "## Preparing dataset for training classifier"
   ],
   "metadata": {}
  },
  {
   "cell_type": "code",
   "execution_count": 3,
   "source": [
    "train = pd.read_csv('titanic/train.csv')"
   ],
   "outputs": [],
   "metadata": {}
  },
  {
   "cell_type": "code",
   "execution_count": 4,
   "source": [
    "train.head(3)"
   ],
   "outputs": [
    {
     "output_type": "execute_result",
     "data": {
      "text/plain": [
       "   PassengerId  Survived  Pclass  \\\n",
       "0            1         0       3   \n",
       "1            2         1       1   \n",
       "2            3         1       3   \n",
       "\n",
       "                                                Name     Sex   Age  SibSp  \\\n",
       "0                            Braund, Mr. Owen Harris    male  22.0      1   \n",
       "1  Cumings, Mrs. John Bradley (Florence Briggs Th...  female  38.0      1   \n",
       "2                             Heikkinen, Miss. Laina  female  26.0      0   \n",
       "\n",
       "   Parch            Ticket     Fare Cabin Embarked  \n",
       "0      0         A/5 21171   7.2500   NaN        S  \n",
       "1      0          PC 17599  71.2833   C85        C  \n",
       "2      0  STON/O2. 3101282   7.9250   NaN        S  "
      ],
      "text/html": [
       "<div>\n",
       "<style scoped>\n",
       "    .dataframe tbody tr th:only-of-type {\n",
       "        vertical-align: middle;\n",
       "    }\n",
       "\n",
       "    .dataframe tbody tr th {\n",
       "        vertical-align: top;\n",
       "    }\n",
       "\n",
       "    .dataframe thead th {\n",
       "        text-align: right;\n",
       "    }\n",
       "</style>\n",
       "<table border=\"1\" class=\"dataframe\">\n",
       "  <thead>\n",
       "    <tr style=\"text-align: right;\">\n",
       "      <th></th>\n",
       "      <th>PassengerId</th>\n",
       "      <th>Survived</th>\n",
       "      <th>Pclass</th>\n",
       "      <th>Name</th>\n",
       "      <th>Sex</th>\n",
       "      <th>Age</th>\n",
       "      <th>SibSp</th>\n",
       "      <th>Parch</th>\n",
       "      <th>Ticket</th>\n",
       "      <th>Fare</th>\n",
       "      <th>Cabin</th>\n",
       "      <th>Embarked</th>\n",
       "    </tr>\n",
       "  </thead>\n",
       "  <tbody>\n",
       "    <tr>\n",
       "      <th>0</th>\n",
       "      <td>1</td>\n",
       "      <td>0</td>\n",
       "      <td>3</td>\n",
       "      <td>Braund, Mr. Owen Harris</td>\n",
       "      <td>male</td>\n",
       "      <td>22.0</td>\n",
       "      <td>1</td>\n",
       "      <td>0</td>\n",
       "      <td>A/5 21171</td>\n",
       "      <td>7.2500</td>\n",
       "      <td>NaN</td>\n",
       "      <td>S</td>\n",
       "    </tr>\n",
       "    <tr>\n",
       "      <th>1</th>\n",
       "      <td>2</td>\n",
       "      <td>1</td>\n",
       "      <td>1</td>\n",
       "      <td>Cumings, Mrs. John Bradley (Florence Briggs Th...</td>\n",
       "      <td>female</td>\n",
       "      <td>38.0</td>\n",
       "      <td>1</td>\n",
       "      <td>0</td>\n",
       "      <td>PC 17599</td>\n",
       "      <td>71.2833</td>\n",
       "      <td>C85</td>\n",
       "      <td>C</td>\n",
       "    </tr>\n",
       "    <tr>\n",
       "      <th>2</th>\n",
       "      <td>3</td>\n",
       "      <td>1</td>\n",
       "      <td>3</td>\n",
       "      <td>Heikkinen, Miss. Laina</td>\n",
       "      <td>female</td>\n",
       "      <td>26.0</td>\n",
       "      <td>0</td>\n",
       "      <td>0</td>\n",
       "      <td>STON/O2. 3101282</td>\n",
       "      <td>7.9250</td>\n",
       "      <td>NaN</td>\n",
       "      <td>S</td>\n",
       "    </tr>\n",
       "  </tbody>\n",
       "</table>\n",
       "</div>"
      ]
     },
     "metadata": {},
     "execution_count": 4
    }
   ],
   "metadata": {}
  },
  {
   "cell_type": "markdown",
   "source": [
    "As the decision tree classifier was only implemented to handle categorical features, we select only the categorical features from our dataset."
   ],
   "metadata": {}
  },
  {
   "cell_type": "code",
   "execution_count": 5,
   "source": [
    "categorical_features = ['Pclass', 'Sex', 'SibSp', 'Parch', 'Embarked']\n",
    "target_variable = 'Survived'"
   ],
   "outputs": [],
   "metadata": {}
  },
  {
   "cell_type": "code",
   "execution_count": 6,
   "source": [
    "# convert to categorical types\n",
    "train = train[categorical_features + [target_variable]].astype('category')"
   ],
   "outputs": [],
   "metadata": {}
  },
  {
   "cell_type": "code",
   "execution_count": 7,
   "source": [
    "train.Embarked = train.Embarked.cat.add_categories(\"NaN\").fillna(\"NaN\")"
   ],
   "outputs": [],
   "metadata": {}
  },
  {
   "cell_type": "code",
   "execution_count": 8,
   "source": [
    "train_enc = train.copy()"
   ],
   "outputs": [],
   "metadata": {}
  },
  {
   "cell_type": "markdown",
   "source": [
    "We numerically encode our categories to integers to be compatible with the C++ library implementation."
   ],
   "metadata": {}
  },
  {
   "cell_type": "code",
   "execution_count": 9,
   "source": [
    "# numerically encode categorical features\n",
    "for col in train_enc.columns:\n",
    "    train_enc[col] = train_enc[col].cat.codes"
   ],
   "outputs": [],
   "metadata": {}
  },
  {
   "cell_type": "code",
   "execution_count": 10,
   "source": [
    "for col in train.columns:\n",
    "    print(train[col].cat.categories)"
   ],
   "outputs": [
    {
     "output_type": "stream",
     "name": "stdout",
     "text": [
      "Int64Index([1, 2, 3], dtype='int64')\n",
      "Index(['female', 'male'], dtype='object')\n",
      "Int64Index([0, 1, 2, 3, 4, 5, 8], dtype='int64')\n",
      "Int64Index([0, 1, 2, 3, 4, 5, 6], dtype='int64')\n",
      "Index(['C', 'Q', 'S', 'NaN'], dtype='object')\n",
      "Int64Index([0, 1], dtype='int64')\n"
     ]
    }
   ],
   "metadata": {}
  },
  {
   "cell_type": "code",
   "execution_count": 11,
   "source": [
    "# check category labels are compatible with C++ library\n",
    "for col in train_enc.columns:\n",
    "    print(train_enc[col].unique())"
   ],
   "outputs": [
    {
     "output_type": "stream",
     "name": "stdout",
     "text": [
      "[2 0 1]\n",
      "[1 0]\n",
      "[1 0 3 4 2 5 6]\n",
      "[0 1 2 5 3 4 6]\n",
      "[2 0 1 3]\n",
      "[0 1]\n"
     ]
    }
   ],
   "metadata": {}
  },
  {
   "cell_type": "markdown",
   "source": [
    "Split data into train and test sets to enable evaluation of model against true values."
   ],
   "metadata": {}
  },
  {
   "cell_type": "code",
   "execution_count": 12,
   "source": [
    "from sklearn.model_selection import train_test_split"
   ],
   "outputs": [],
   "metadata": {}
  },
  {
   "cell_type": "code",
   "execution_count": 13,
   "source": [
    "X_train, X_test = train_test_split(train_enc, random_state=1)"
   ],
   "outputs": [],
   "metadata": {}
  },
  {
   "cell_type": "code",
   "execution_count": 14,
   "source": [
    "# need to transpose to be compatible with C++ library\n",
    "X_train.T.to_csv(\"../test/resources/titanicTrain.csv\", header=False, index=False)"
   ],
   "outputs": [],
   "metadata": {}
  },
  {
   "cell_type": "code",
   "execution_count": 15,
   "source": [
    "# remove outcomes from test\n",
    "X_test.drop(columns='Survived').T.to_csv(\"../test/resources/titanicTest.csv\", header=False, index=False)"
   ],
   "outputs": [],
   "metadata": {}
  },
  {
   "cell_type": "code",
   "execution_count": 16,
   "source": [
    "X_test.Survived"
   ],
   "outputs": [
    {
     "output_type": "execute_result",
     "data": {
      "text/plain": [
       "862    1\n",
       "223    0\n",
       "84     1\n",
       "680    0\n",
       "535    1\n",
       "      ..\n",
       "506    1\n",
       "467    0\n",
       "740    1\n",
       "354    0\n",
       "449    1\n",
       "Name: Survived, Length: 223, dtype: int8"
      ]
     },
     "metadata": {},
     "execution_count": 16
    }
   ],
   "metadata": {}
  },
  {
   "cell_type": "code",
   "execution_count": 17,
   "source": [
    "# read data csvs into C++ library and return predictions\n",
    "predictions = cpp_decision_tree(\"../test/resources/titanicTrain.csv\", \"../test/resources/titanicTest.csv\")"
   ],
   "outputs": [],
   "metadata": {}
  },
  {
   "cell_type": "code",
   "execution_count": 18,
   "source": [
    "\n",
    "from sklearn.metrics import confusion_matrix, ConfusionMatrixDisplay"
   ],
   "outputs": [],
   "metadata": {}
  },
  {
   "cell_type": "code",
   "execution_count": 19,
   "source": [
    "ConfusionMatrixDisplay(confusion_matrix(X_test.Survived, predictions)).plot()"
   ],
   "outputs": [
    {
     "output_type": "execute_result",
     "data": {
      "text/plain": [
       "<sklearn.metrics._plot.confusion_matrix.ConfusionMatrixDisplay at 0x1918dc4e50>"
      ]
     },
     "metadata": {},
     "execution_count": 19
    },
    {
     "output_type": "display_data",
     "data": {
      "text/plain": [
       "<Figure size 432x288 with 2 Axes>"
      ],
      "image/png": "[encoded data removed]"
     },
     "metadata": {
      "needs_background": "light"
     }
    }
   ],
   "metadata": {}
  },
  {
   "cell_type": "markdown",
   "source": [
    "## Compare with open-source decision tree implementation\n",
    "Compare to scikit-learn decision tree classifier"
   ],
   "metadata": {}
  },
  {
   "cell_type": "code",
   "execution_count": 20,
   "source": [
    "# compare using sklearn decision tree\n",
    "from sklearn.tree import DecisionTreeClassifier"
   ],
   "outputs": [],
   "metadata": {}
  },
  {
   "cell_type": "code",
   "execution_count": 21,
   "source": [
    "clf = DecisionTreeClassifier()"
   ],
   "outputs": [],
   "metadata": {}
  },
  {
   "cell_type": "code",
   "execution_count": 22,
   "source": [
    "clf = clf.fit(X_train.drop(columns='Survived'), X_train.Survived)"
   ],
   "outputs": [],
   "metadata": {}
  },
  {
   "cell_type": "code",
   "execution_count": 23,
   "source": [
    "sklearn_predictions = clf.predict(X_test.drop(columns='Survived'))"
   ],
   "outputs": [],
   "metadata": {}
  },
  {
   "cell_type": "code",
   "execution_count": 24,
   "source": [
    "ConfusionMatrixDisplay(confusion_matrix(X_test.Survived, sklearn_predictions)).plot()"
   ],
   "outputs": [
    {
     "output_type": "execute_result",
     "data": {
      "text/plain": [
       "<sklearn.metrics._plot.confusion_matrix.ConfusionMatrixDisplay at 0x1919dfed10>"
      ]
     },
     "metadata": {},
     "execution_count": 24
    },
    {
     "output_type": "display_data",
     "data": {
      "text/plain": [
       "<Figure size 432x288 with 2 Axes>"
      ],
      "image/png": "[encoded data removed]"
     },
     "metadata": {
      "needs_background": "light"
     }
    }
   ],
   "metadata": {}
  },
  {
   "cell_type": "code",
   "execution_count": 25,
   "source": [
    "import numpy as np"
   ],
   "outputs": [],
   "metadata": {}
  },
  {
   "cell_type": "code",
   "execution_count": 26,
   "source": [
    "# calculate mean absolute error between C++ implementation of classifier and SK-learn\n",
    "MAE = np.sum(np.abs(sklearn_predictions - predictions)) / len(predictions)"
   ],
   "outputs": [],
   "metadata": {}
  },
  {
   "cell_type": "code",
   "execution_count": 27,
   "source": [
    "MAE"
   ],
   "outputs": [
    {
     "output_type": "execute_result",
     "data": {
      "text/plain": [
       "0.14349775784753363"
      ]
     },
     "metadata": {},
     "execution_count": 27
    }
   ],
   "metadata": {}
  },
  {
   "cell_type": "markdown",
   "source": [
    "## Results\n",
    "We see 0.14 mean absolute error between the scikit-learn implementation and our own C++ implementation. We would expect the default settings for the SK-learn classifier to give the same results as our implementation of the classifier on this dataset, so likely there are some bugs in our implementation or we are misinterpreting the SK-learn docs. We aren't too far off with 85% of predictions from each classifier giving the same label."
   ],
   "metadata": {}
  },
  {
   "cell_type": "code",
   "execution_count": null,
   "source": [],
   "outputs": [],
   "metadata": {}
  }
 ],
 "metadata": {
  "interpreter": {
   "hash": "2fd127e1b1222c75630ed5cdd42c40bf2ae003092f8ef1d43b1a03fa3691fe3e"
  },
  "kernelspec": {
   "display_name": "Python 3.7.6 64-bit ('base': conda)",
   "name": "python3"
  },
  "language_info": {
   "codemirror_mode": {
    "name": "ipython",
    "version": 3
   },
   "file_extension": ".py",
   "mimetype": "text/x-python",
   "name": "python",
   "nbconvert_exporter": "python",
   "pygments_lexer": "ipython3",
   "version": "3.7.6"
  },
  "metadata": {
   "interpreter": {
    "hash": "2fd127e1b1222c75630ed5cdd42c40bf2ae003092f8ef1d43b1a03fa3691fe3e"
   }
  },
  "orig_nbformat": 2
 },
 "nbformat": 4,
 "nbformat_minor": 2
}